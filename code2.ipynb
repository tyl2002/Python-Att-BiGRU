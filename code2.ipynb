{
 "cells": [
  {
   "cell_type": "code",
   "execution_count": 1,
   "metadata": {
    "collapsed": true,
    "pycharm": {
     "name": "#%%\n"
    }
   },
   "outputs": [
    {
     "name": "stdout",
     "output_type": "stream",
     "text": [
      "WARNING:tensorflow:From C:\\Users\\覆水难收吗\\AppData\\Local\\Temp\\ipykernel_76872\\2480976443.py:3: The name tf.random.set_random_seed is deprecated. Please use tf.compat.v1.random.set_random_seed instead.\n",
      "\n"
     ]
    },
    {
     "data": {
      "text/plain": "True"
     },
     "execution_count": 1,
     "metadata": {},
     "output_type": "execute_result"
    }
   ],
   "source": [
    "import tensorflow\n",
    "\n",
    "tensorflow.random.set_random_seed(5)\n",
    "from numpy.random import seed\n",
    "\n",
    "seed(5)\n",
    "import time\n",
    "import numpy as np\n",
    "\n",
    "np.random.seed(5)\n",
    "\n",
    "from sklearn.preprocessing import MinMaxScaler\n",
    "from sklearn.model_selection import train_test_split\n",
    "from sklearn.metrics import mean_absolute_error, mean_squared_error, r2_score\n",
    "from sklearn.metrics import r2_score\n",
    "from sklearn import preprocessing\n",
    "import matplotlib.pyplot as plt\n",
    "from tensorflow.python.keras.utils.vis_utils import plot_model\n",
    "\n",
    "from math import sqrt\n",
    "import pandas as pd\n",
    "\n",
    "from tensorflow.python.keras.layers import merge\n",
    "from tensorflow.python.keras.layers.core import *\n",
    "from tensorflow.python.keras.layers.recurrent import LSTM\n",
    "from tensorflow.python.keras.models import *\n",
    "from tensorflow.keras.layers import Input\n",
    "from tensorflow.keras.layers import Input, Dropout, Flatten, MaxPooling1D, TimeDistributed, GRU, SimpleRNN, \\\n",
    "    Bidirectional, RNN\n",
    "import tensorflow as tf\n",
    "from tensorflow.keras.optimizers import SGD, Adam\n",
    "from tensorflow.python.framework.ops import disable_eager_execution\n",
    "tf.test.is_gpu_available()"
   ]
  },
  {
   "cell_type": "code",
   "execution_count": 2,
   "outputs": [],
   "source": [
    "disable_eager_execution()\n",
    "china_v = pd.read_csv('D:\\project\\pythonProject2\\Japan.csv')\n",
    "china_data = china_v['value']"
   ],
   "metadata": {
    "collapsed": false,
    "pycharm": {
     "name": "#%%\n"
    }
   }
  },
  {
   "cell_type": "code",
   "execution_count": 2,
   "outputs": [],
   "source": [],
   "metadata": {
    "collapsed": false,
    "pycharm": {
     "name": "#%%\n"
    }
   }
  },
  {
   "cell_type": "code",
   "execution_count": 3,
   "outputs": [
    {
     "data": {
      "text/plain": "1610"
     },
     "execution_count": 3,
     "metadata": {},
     "output_type": "execute_result"
    }
   ],
   "source": [
    "len(china_v[:1610])"
   ],
   "metadata": {
    "collapsed": false,
    "pycharm": {
     "name": "#%%\n"
    }
   }
  },
  {
   "cell_type": "code",
   "execution_count": 4,
   "outputs": [],
   "source": [
    "china_v1 = china_data[:1610]\n",
    "data = np.array(china_v1)\n",
    "data = data.reshape(-1, 1)"
   ],
   "metadata": {
    "collapsed": false,
    "pycharm": {
     "name": "#%%\n"
    }
   }
  },
  {
   "cell_type": "code",
   "execution_count": 5,
   "outputs": [],
   "source": [
    "import matplotlib.pyplot as plt\n",
    "plt.rcParams['font.sans-serif'] = ['SimHei'] #用来正常显示中文标签\n",
    "plt.rcParams['axes.unicode_minus'] = False #用来正常显示负号"
   ],
   "metadata": {
    "collapsed": false,
    "pycharm": {
     "name": "#%%\n"
    }
   }
  },
  {
   "cell_type": "code",
   "execution_count": 6,
   "outputs": [
    {
     "data": {
      "text/plain": "0       1.295800\n1       1.272510\n2       1.327940\n3       1.470240\n4       1.483790\n          ...   \n1605    1.089140\n1606    1.101800\n1607    1.108370\n1608    0.943891\n1609    0.978252\nName: value, Length: 1610, dtype: float64"
     },
     "execution_count": 6,
     "metadata": {},
     "output_type": "execute_result"
    }
   ],
   "source": [
    "china_v1"
   ],
   "metadata": {
    "collapsed": false,
    "pycharm": {
     "name": "#%%\n"
    }
   }
  },
  {
   "cell_type": "markdown",
   "source": [
    "进行平稳性检测"
   ],
   "metadata": {
    "collapsed": false,
    "pycharm": {
     "name": "#%% md\n"
    }
   }
  },
  {
   "cell_type": "code",
   "execution_count": null,
   "outputs": [],
   "source": [
    "from statsmodels.graphics.tsaplots import plot_acf\n",
    "plot_acf(china_v1).show()"
   ],
   "metadata": {
    "collapsed": false,
    "pycharm": {
     "name": "#%%\n"
    }
   }
  },
  {
   "cell_type": "markdown",
   "source": [],
   "metadata": {
    "collapsed": false,
    "pycharm": {
     "name": "#%% md\n"
    }
   }
  },
  {
   "cell_type": "markdown",
   "source": [
    "通过自相关图来进行检验，对于平稳时间序列，其自相关图一般随着阶数的递增，自相关系统会迅速衰减至0附近，而非平稳时间序列则可能存在先减后增或者周期性波动等变动。如下图所示，该时间序列随着阶数的递增，自相关系数先减后增，因此，可以判断该时间序列不是平稳时间序列。"
   ],
   "metadata": {
    "collapsed": false,
    "pycharm": {
     "name": "#%% md\n"
    }
   }
  },
  {
   "cell_type": "code",
   "execution_count": null,
   "outputs": [],
   "source": [
    "#定义ADF输出格式化函数\n",
    "from statsmodels.tsa.stattools import adfuller\n",
    "def adf_test(timeseries):\n",
    "    print ('ADF检验结果:')\n",
    "    dftest = adfuller(timeseries, autolag='AIC')\n",
    "    dfoutput = pd.Series(dftest[0:4], index=['Test Statistic','p-value','Number of Lags Used','Number of Observations Used'])\n",
    "    for key,value in dftest[4].items():\n",
    "       dfoutput['Critical Value (%s)'%key] = value\n",
    "    print (dfoutput)\n",
    "\n",
    "#对数据集使用ADF检验\n",
    "adf_test(china_v1)\n"
   ],
   "metadata": {
    "collapsed": false,
    "pycharm": {
     "name": "#%%\n"
    }
   }
  },
  {
   "cell_type": "markdown",
   "source": [
    "白噪声检验"
   ],
   "metadata": {
    "collapsed": false,
    "pycharm": {
     "name": "#%% md\n"
    }
   }
  },
  {
   "cell_type": "code",
   "execution_count": null,
   "outputs": [],
   "source": [
    "from statsmodels.stats.diagnostic import acorr_ljungbox\n",
    "acorr_ljungbox(china_v1, lags=None, boxpierce=False)"
   ],
   "metadata": {
    "collapsed": false,
    "pycharm": {
     "name": "#%%\n"
    }
   }
  },
  {
   "cell_type": "markdown",
   "source": [
    "利用差分法对时间序列进行平稳化"
   ],
   "metadata": {
    "collapsed": false,
    "pycharm": {
     "name": "#%% md\n"
    }
   }
  },
  {
   "cell_type": "code",
   "execution_count": null,
   "outputs": [],
   "source": [
    "def first_diff(data):\n",
    "    \"\"\"\n",
    "    计算给定数据列表的相邻元素之间的差值。\n",
    "\n",
    "    参数:\n",
    "    data: 一个包含数字元素的列表或数组，可以是浮点数或整数。\n",
    "\n",
    "    返回值:\n",
    "    一个numpy数组，包含输入数据中相邻元素之间的差值，数据类型为float64。\n",
    "    \"\"\"\n",
    "    # 初始化用于存储差值的列表\n",
    "    data_diff = []\n",
    "    # 计算相邻元素之间的差值，并添加到data_diff列表中\n",
    "    for i in range(len(data) - 1):\n",
    "        data_diff.append(data[i + 1] - data[i])\n",
    "    # 将data_diff列表转换为numpy数组\n",
    "    data_diff = np.array(data_diff)\n",
    "    # 将数组的数据类型转换为float64并返回\n",
    "    return data_diff.astype(np.float64)"
   ],
   "metadata": {
    "collapsed": false,
    "pycharm": {
     "name": "#%%\n"
    }
   }
  },
  {
   "cell_type": "code",
   "execution_count": null,
   "outputs": [],
   "source": [],
   "metadata": {
    "collapsed": false,
    "pycharm": {
     "name": "#%%\n"
    }
   }
  },
  {
   "cell_type": "markdown",
   "source": [
    "差分后的自相关图"
   ],
   "metadata": {
    "collapsed": false,
    "pycharm": {
     "name": "#%% md\n"
    }
   }
  },
  {
   "cell_type": "code",
   "execution_count": null,
   "outputs": [],
   "source": [
    "tec_diff= first_diff(np.array(data))\n",
    "# adf_test(tec_diff)\n",
    "# show=[]\n",
    "# for i in range(len(tec_diff)-1):\n",
    "#     show.append(tec_diff[i][0])\n",
    "# show=np.array(show)\n",
    "# ser=pd.Series(show)\n",
    "# ser.plot()\n",
    "# plt.show()"
   ],
   "metadata": {
    "collapsed": false,
    "pycharm": {
     "name": "#%%\n"
    }
   }
  },
  {
   "cell_type": "code",
   "execution_count": null,
   "outputs": [],
   "source": [
    "len(tec_diff)"
   ],
   "metadata": {
    "collapsed": false,
    "pycharm": {
     "name": "#%%\n"
    }
   }
  },
  {
   "cell_type": "markdown",
   "source": [
    "划分训练集和测试集，用前70%的数据作为训练集，后30%的数据作为测试集"
   ],
   "metadata": {
    "collapsed": false,
    "pycharm": {
     "name": "#%% md\n"
    }
   }
  },
  {
   "cell_type": "code",
   "execution_count": null,
   "outputs": [],
   "source": [
    "split_size = int(len(tec_diff) * 0.7)\n",
    "train, test = tec_diff[:split_size], tec_diff[split_size:]"
   ],
   "metadata": {
    "collapsed": false,
    "pycharm": {
     "name": "#%%\n"
    }
   }
  },
  {
   "cell_type": "markdown",
   "source": [],
   "metadata": {
    "collapsed": false,
    "pycharm": {
     "name": "#%% md\n"
    }
   }
  },
  {
   "cell_type": "code",
   "execution_count": null,
   "outputs": [],
   "source": [
    "scaler = MinMaxScaler()# 归一化到[0,1] 转换函数：x = (x-min) / (max-min)；适用性：适用于分布范围较稳定的数据，当新数据的加入导致max/min变化，则需重新定义；\n",
    "scaled_train = scaler.fit_transform(train)\n",
    "scaled_test = scaler.transform(test)"
   ],
   "metadata": {
    "collapsed": false,
    "pycharm": {
     "name": "#%%\n"
    }
   }
  },
  {
   "cell_type": "code",
   "execution_count": null,
   "outputs": [],
   "source": [
    "def split_sequence(sequence, look_back, forecast_horizon):\n",
    "    X, y = list(), list()\n",
    "    for i in range(len(sequence)):\n",
    "        lag_end = i + look_back\n",
    "        forecast_end = lag_end + forecast_horizon\n",
    "        if forecast_end > len(sequence):\n",
    "            break\n",
    "        seq_x, seq_y = sequence[i:lag_end], sequence[lag_end:forecast_end]\n",
    "        X.append(seq_x)\n",
    "        y.append(seq_y)\n",
    "    return np.array(X), np.array(y)\n",
    "LOOK_BACK = 12\n",
    "FORECAST_RANGE = 1\n",
    "x_train, y_train = split_sequence(scaled_train, look_back=LOOK_BACK, forecast_horizon=FORECAST_RANGE)"
   ],
   "metadata": {
    "collapsed": false,
    "pycharm": {
     "name": "#%%\n"
    }
   }
  },
  {
   "cell_type": "code",
   "execution_count": null,
   "outputs": [],
   "source": [
    "len(x_train),len(y_train)"
   ],
   "metadata": {
    "collapsed": false,
    "pycharm": {
     "name": "#%%\n"
    }
   }
  },
  {
   "cell_type": "code",
   "execution_count": null,
   "outputs": [],
   "source": [
    "x_test, y_test = split_sequence(scaled_test, look_back=LOOK_BACK, forecast_horizon=FORECAST_RANGE)\n",
    "xa, ya = split_sequence(np.array(data[int(len(tec_diff) * 0.7) + 1:]), look_back=LOOK_BACK,\n",
    "                        forecast_horizon=FORECAST_RANGE)\n",
    "early_stop = tf.keras.callbacks.EarlyStopping(monitor='val_loss', min_delta=0.0001, patience=20)  # 早停回调\n",
    "print(x_train.shape)\n",
    "print(y_train.shape)\n",
    "print(x_test.shape)\n",
    "print(y_test.shape)"
   ],
   "metadata": {
    "collapsed": false,
    "pycharm": {
     "name": "#%%\n"
    }
   }
  },
  {
   "cell_type": "code",
   "execution_count": null,
   "outputs": [],
   "source": [
    "INPUT_DIMS = 1\n",
    "TIME_STEPS = 12\n",
    "start = time.perf_counter()\n",
    "tf.random.set_random_seed(5)"
   ],
   "metadata": {
    "collapsed": false,
    "pycharm": {
     "name": "#%%\n"
    }
   }
  },
  {
   "cell_type": "markdown",
   "source": [
    "搭建模型"
   ],
   "metadata": {
    "collapsed": false,
    "pycharm": {
     "name": "#%% md\n"
    }
   }
  },
  {
   "cell_type": "code",
   "execution_count": null,
   "outputs": [],
   "source": [
    "def attention_3d_block(inputs):\n",
    "    a = Permute((2, 1))(inputs)\n",
    "    a = Dense(LOOK_BACK, activation='softmax')(a)\n",
    "    a_probs = Permute((2, 1))(a)\n",
    "    # 相当于获得每一个step中，每个特征的权重\n",
    "    output_attention_mul = merge.multiply([inputs, a_probs])  # 新版本 keras\n",
    "    return output_attention_mul\n",
    "def get_attention_model(time_steps, input_dim, lstm_units=64):\n",
    "    inputs1 = Input(shape=(time_steps, input_dim))\n",
    "    lstm_out = GRU(lstm_units, return_sequences=True)(inputs1)\n",
    "    attention_mul = attention_3d_block(lstm_out)\n",
    "    attention_mul = Flatten()(attention_mul)\n",
    "    # attention_mul = Flatten()(lstm_out)\n",
    "    output = Dense(1)(attention_mul)\n",
    "    model = Model(inputs=[inputs1], outputs=output)\n",
    "    return model\n",
    "model = get_attention_model(LOOK_BACK, INPUT_DIMS)"
   ],
   "metadata": {
    "collapsed": false,
    "pycharm": {
     "name": "#%%\n"
    }
   }
  },
  {
   "cell_type": "markdown",
   "source": [
    "优化器"
   ],
   "metadata": {
    "collapsed": false,
    "pycharm": {
     "name": "#%% md\n"
    }
   }
  },
  {
   "cell_type": "code",
   "execution_count": null,
   "outputs": [],
   "source": [
    "from sklearn.model_selection import GridSearchCV\n",
    "\n",
    "\n",
    "def get_data_recurrent(x, y, attention_column=7):\n",
    "    y = y.reshape(y.shape[0], 1)\n",
    "    x[:, attention_column, :] = np.tile(y[:], (1, 1))\n",
    "    return x, y\n",
    "X, Y = get_data_recurrent(x_train, y_train)\n",
    "X_test, Y_test = get_data_recurrent(x_test, y_test)\n",
    "epochs=20\n",
    "model.compile(optimizer='SGD', loss='mae')\n",
    "history = model.fit(X, Y, epochs=epochs, callbacks=[early_stop], batch_size=64, verbose=2, shuffle=False,\n",
    "                    validation_split=0.1)\n",
    "# model.summary()\n",
    "yhat = model.predict(x_test, verbose=0)\n",
    "def inverse_transform(y_test, yhat):\n",
    "    y_test_reshaped = y_test.reshape(-1, y_test.shape[-1])\n",
    "    yhat_reshaped = yhat.reshape(-1, yhat.shape[-1])\n",
    "    yhat_inverse = scaler.inverse_transform(yhat_reshaped)\n",
    "    y_test_inverse = scaler.inverse_transform(y_test_reshaped)\n",
    "    return yhat_inverse, y_test_inverse\n",
    "def anti_first_diff(m, n):\n",
    "    data = []\n",
    "    for i in range(0, len(m)):\n",
    "        a = n[i] + m[i]\n",
    "        data.append(a)\n",
    "    return np.array(data).astype(\"float32\")\n",
    "yhat_inverse, y_test_inverse = inverse_transform(y_test, yhat)  # 反转归一化\n",
    "y_pre = []  #\n",
    "print(y_test_inverse)\n",
    "for i in range(yhat_inverse.shape[0]):\n",
    "    for j in range(yhat_inverse.shape[1]):\n",
    "        y_pre.append(yhat_inverse[i][j])\n",
    "y = np.array(y_test_inverse)\n",
    "y_pre = np.array(y_pre)  # 将y_pre转化为numpy数组\n",
    "y = anti_first_diff(ya, y)\n",
    "y_pre = anti_first_diff(ya, y_pre)\n",
    "\n",
    "# y_pre = np.array(y_pre)\n",
    "y_r, y_p = [], []\n",
    "for i in range(0, y.shape[0]):\n",
    "    for j in range(0, y.shape[1]):\n",
    "        y_r.append(y[i][j])\n",
    "        y_p.append(y_pre[i][j])# y_r\n",
    "\n",
    "y_r1 = np.array(y_r)\n",
    "y_p1 = np.array(y_p)\n",
    "y_r2 = data[1139:]\n",
    "x = np.arange(0, 1610, 1)\n",
    "MAE = mean_absolute_error(y_r2, y_p1)\n",
    "MSE = mean_squared_error(y_r2, y_p1)\n",
    "RMSE = sqrt(mean_squared_error(y_r2, y_p1))\n",
    "R2_score = r2_score(y_r2, y_p1)\n",
    "output_value = []\n",
    "output_value.append(MAE)\n",
    "output_value.append(MSE)\n",
    "output_value.append(RMSE)\n",
    "output_value.append(R2_score)\n",
    "# output_value.append(int(using_time))\n",
    "output_value = np.array(output_value)\n",
    "output_data = pd.DataFrame(output_value)\n",
    "\n",
    "output_data.index = ['MAE', 'MSE', 'RMSE', 'R2 Score']\n",
    "print(output_data)"
   ],
   "metadata": {
    "collapsed": false,
    "pycharm": {
     "name": "#%%\n"
    }
   }
  },
  {
   "cell_type": "markdown",
   "source": [],
   "metadata": {
    "collapsed": false,
    "pycharm": {
     "name": "#%% md\n"
    }
   }
  },
  {
   "cell_type": "code",
   "execution_count": null,
   "outputs": [],
   "source": [
    "qweqwe"
   ],
   "metadata": {
    "collapsed": false,
    "pycharm": {
     "name": "#%%\n"
    }
   }
  },
  {
   "cell_type": "code",
   "execution_count": null,
   "outputs": [],
   "source": [
    "SGD = get_attention_model(LOOK_BACK, INPUT_DIMS)\n",
    "Adam = get_attention_model(LOOK_BACK, INPUT_DIMS)\n",
    "# Adagrad = get_attention_model(LOOK_BACK, INPUT_DIMS)\n",
    "Nadam = get_attention_model(LOOK_BACK, INPUT_DIMS)"
   ],
   "metadata": {
    "collapsed": false,
    "pycharm": {
     "name": "#%%\n"
    }
   }
  },
  {
   "cell_type": "code",
   "execution_count": null,
   "outputs": [],
   "source": [
    "sgd16=get_attention_model(LOOK_BACK, INPUT_DIMS)\n",
    "sgd32=get_attention_model(LOOK_BACK, INPUT_DIMS)\n",
    "sgd64=get_attention_model(LOOK_BACK, INPUT_DIMS)\n",
    "sgd128=get_attention_model(LOOK_BACK, INPUT_DIMS)\n",
    "sgd256=get_attention_model(LOOK_BACK, INPUT_DIMS)"
   ],
   "metadata": {
    "collapsed": false,
    "pycharm": {
     "name": "#%%\n"
    }
   }
  },
  {
   "cell_type": "code",
   "execution_count": null,
   "outputs": [],
   "source": [
    "sgd16.compile(optimizer='SGD', loss='mae')\n",
    "sgd_16=sgd16.fit(X, Y, epochs=epochs, batch_size=16, verbose=2, shuffle=False,\n",
    "                    validation_split=0.1)\n",
    "sgd32.compile(optimizer='SGD', loss='mae')\n",
    "sgd_32=sgd32.fit(X, Y, epochs=epochs, batch_size=32, verbose=2, shuffle=False,\n",
    "                    validation_split=0.1)\n",
    "sgd64.compile(optimizer='SGD', loss='mae')\n",
    "sgd_64=sgd64.fit(X, Y, epochs=epochs, batch_size=64, verbose=2, shuffle=False,\n",
    "                    validation_split=0.1)\n",
    "sgd128.compile(optimizer='SGD', loss='mae')\n",
    "sgd_128=sgd128.fit(X, Y, epochs=epochs, batch_size=128, verbose=2, shuffle=False,\n",
    "                    validation_split=0.1)\n",
    "sgd256.compile(optimizer='SGD', loss='mae')\n",
    "sgd_256=sgd256.fit(X, Y, epochs=epochs, batch_size=256, verbose=2, shuffle=False,\n",
    "                    validation_split=0.1)"
   ],
   "metadata": {
    "collapsed": false,
    "pycharm": {
     "name": "#%%\n"
    }
   }
  },
  {
   "cell_type": "code",
   "execution_count": null,
   "outputs": [],
   "source": [
    "Adam.compile(optimizer='Adam', loss='mae')\n",
    "adam=Adam.fit(X, Y, epochs=epochs, batch_size=64, verbose=2, shuffle=False,\n",
    "                    validation_split=0.1)"
   ],
   "metadata": {
    "collapsed": false,
    "pycharm": {
     "name": "#%%\n"
    }
   }
  },
  {
   "cell_type": "code",
   "execution_count": null,
   "outputs": [],
   "source": [
    "Nadam.compile(optimizer='Nadam', loss='mae')\n",
    "nadam=Nadam.fit(X, Y, epochs=epochs, batch_size=64, verbose=2, shuffle=False,\n",
    "                    validation_split=0.1)\n",
    "# plt.plot(sgd.history['loss'],label='SGD')\n",
    "# plt.plot(nadam.history['loss'],label='Nadam')\n",
    "# plt.plot(adam.history['loss'],label='Adam')\n",
    "# plt.plot(history.history['loss'],label='Adagrad')\n",
    "#\n",
    "# plt.legend()"
   ],
   "metadata": {
    "collapsed": false,
    "pycharm": {
     "name": "#%%\n"
    }
   }
  },
  {
   "cell_type": "code",
   "execution_count": null,
   "outputs": [],
   "source": [
    "# plot_model(,to_file='model.png',show_shapes=True)"
   ],
   "metadata": {
    "collapsed": false,
    "pycharm": {
     "name": "#%%\n"
    }
   }
  },
  {
   "cell_type": "markdown",
   "source": [
    "测试集预测"
   ],
   "metadata": {
    "collapsed": false,
    "pycharm": {
     "name": "#%% md\n"
    }
   }
  },
  {
   "cell_type": "code",
   "execution_count": null,
   "outputs": [],
   "source": [
    "yhat = model.predict(x_test, verbose=0)"
   ],
   "metadata": {
    "collapsed": false,
    "pycharm": {
     "name": "#%%\n"
    }
   }
  },
  {
   "cell_type": "code",
   "execution_count": null,
   "outputs": [],
   "source": [
    "def inverse_transform(y_test, yhat):\n",
    "    y_test_reshaped = y_test.reshape(-1, y_test.shape[-1])\n",
    "    yhat_reshaped = yhat.reshape(-1, yhat.shape[-1])\n",
    "    yhat_inverse = scaler.inverse_transform(yhat_reshaped)\n",
    "    y_test_inverse = scaler.inverse_transform(y_test_reshaped)\n",
    "    return yhat_inverse, y_test_inverse\n",
    "def anti_first_diff(m, n):\n",
    "    data = []\n",
    "    for i in range(0, len(m)):\n",
    "        a = n[i] + m[i]\n",
    "        data.append(a)\n",
    "    return np.array(data).astype(\"float32\")\n",
    "yhat_inverse, y_test_inverse = inverse_transform(y_test, yhat)  # 反转归一化\n",
    "y_pre = []  #\n",
    "print(y_test_inverse)\n",
    "for i in range(yhat_inverse.shape[0]):\n",
    "    for j in range(yhat_inverse.shape[1]):\n",
    "        y_pre.append(yhat_inverse[i][j])\n",
    "y = np.array(y_test_inverse)\n",
    "y_pre = np.array(y_pre)  # 将y_pre转化为numpy数组\n",
    "y = anti_first_diff(ya, y)\n",
    "y_pre = anti_first_diff(ya, y_pre)\n",
    "\n",
    "# y_pre = np.array(y_pre)\n",
    "y_r, y_p = [], []\n",
    "for i in range(0, y.shape[0]):\n",
    "    for j in range(0, y.shape[1]):\n",
    "        y_r.append(y[i][j])\n",
    "        y_p.append(y_pre[i][j])# y_r\n"
   ],
   "metadata": {
    "collapsed": false,
    "pycharm": {
     "name": "#%%\n"
    }
   }
  },
  {
   "cell_type": "code",
   "execution_count": null,
   "outputs": [],
   "source": [
    "y_r1 = np.array(y_r)\n",
    "y_p1 = np.array(y_p)\n",
    "y_r2 = data[1139:]\n",
    "x = np.arange(0, 1610, 1)\n",
    "MAE = mean_absolute_error(y_r2, y_p1)\n",
    "MSE = mean_squared_error(y_r2, y_p1)\n",
    "RMSE = sqrt(mean_squared_error(y_r2, y_p1))\n",
    "R2_score = r2_score(y_r2, y_p1)\n",
    "output_value = []\n",
    "output_value.append(MAE)\n",
    "output_value.append(MSE)\n",
    "output_value.append(RMSE)\n",
    "output_value.append(R2_score)\n",
    "# output_value.append(int(using_time))\n",
    "output_value = np.array(output_value)\n",
    "output_data = pd.DataFrame(output_value)\n",
    "\n",
    "output_data.index = ['MAE', 'MSE', 'RMSE', 'R2 Score']\n",
    "print(output_data)"
   ],
   "metadata": {
    "collapsed": false,
    "pycharm": {
     "name": "#%%\n"
    }
   }
  },
  {
   "cell_type": "code",
   "execution_count": null,
   "outputs": [],
   "source": [
    "def modelpre(yhat):\n",
    "    yhat_inverse, y_test_inverse = inverse_transform(y_test, yhat)  # 反转归一化\n",
    "    y_pre = []  #\n",
    "    for i in range(yhat_inverse.shape[0]):\n",
    "        for j in range(yhat_inverse.shape[1]):\n",
    "            y_pre.append(yhat_inverse[i][j])\n",
    "    y = np.array(y_test_inverse)\n",
    "    y_pre = np.array(y_pre)  # 将y_pre转化为numpy数组\n",
    "    y = anti_first_diff(ya, y)\n",
    "    y_pre = anti_first_diff(ya, y_pre)\n",
    "\n",
    "    # y_pre = np.array(y_pre)\n",
    "    y_r, y_p = [], []\n",
    "    for i in range(0, y.shape[0]):\n",
    "        for j in range(0, y.shape[1]):\n",
    "            y_r.append(y[i][j])\n",
    "            y_p.append(y_pre[i][j])# y_r\n",
    "    y_r1 = np.array(y_r)\n",
    "    y_p1 = np.array(y_p)\n",
    "    y_r2 = data[1139:]\n",
    "    x = np.arange(0, 1610, 1)\n",
    "    MAE = mean_absolute_error(y_r2, y_p1)\n",
    "    MSE = mean_squared_error(y_r2, y_p1)\n",
    "    RMSE = sqrt(mean_squared_error(y_r2, y_p1))\n",
    "    R2_score = r2_score(y_r2, y_p1)\n",
    "    output_value = []\n",
    "    output_value.append(MAE)\n",
    "    output_value.append(MSE)\n",
    "    output_value.append(RMSE)\n",
    "    output_value.append(R2_score)\n",
    "    # output_value.append(int(using_time))\n",
    "    output_value = np.array(output_value)\n",
    "    output_data = pd.DataFrame(output_value)\n",
    "\n",
    "    output_data.index = ['MAE', 'MSE', 'RMSE', 'R2 Score']\n",
    "    print(output_data)\n",
    "    return y_r2, y_p1,MSE, RMSE,MAE,R2_score"
   ],
   "metadata": {
    "collapsed": false,
    "pycharm": {
     "name": "#%%\n"
    }
   }
  },
  {
   "cell_type": "markdown",
   "source": [
    "Adagrad"
   ],
   "metadata": {
    "collapsed": false,
    "pycharm": {
     "name": "#%% md\n"
    }
   }
  },
  {
   "cell_type": "code",
   "execution_count": null,
   "outputs": [],
   "source": [
    "adagrad_pre = model.predict(x_test, verbose=0)\n",
    "adagrad_pre_yhat,adagrad_pre_y_r2,adagrad_pre_MSE, adagrad_pre_RMSE,adagrad_pre_MAE,adagrad_pre_R2=modelpre(adagrad_pre)"
   ],
   "metadata": {
    "collapsed": false,
    "pycharm": {
     "name": "#%%\n"
    }
   }
  },
  {
   "cell_type": "markdown",
   "source": [
    "SGD"
   ],
   "metadata": {
    "collapsed": false,
    "pycharm": {
     "name": "#%% md\n"
    }
   }
  },
  {
   "cell_type": "code",
   "execution_count": null,
   "outputs": [],
   "source": [
    "SGD_pre = SGD.predict(x_test, verbose=0)\n",
    "SGD_pre_yhat,SGD_pre_y_r2,SGD_pre_MSE, SGD_pre_RMSE,SGD_pre_MAE,SGD_pre_R2=modelpre(SGD_pre)"
   ],
   "metadata": {
    "collapsed": false,
    "pycharm": {
     "name": "#%%\n"
    }
   }
  },
  {
   "cell_type": "markdown",
   "source": [
    "NAdam"
   ],
   "metadata": {
    "collapsed": false,
    "pycharm": {
     "name": "#%% md\n"
    }
   }
  },
  {
   "cell_type": "code",
   "execution_count": null,
   "outputs": [],
   "source": [
    "NAdam_pre = Nadam.predict(x_test, verbose=0)\n",
    "NAdam_pre_yhat,NAdam_pre_y_r2,NAdam_pre_MSE, NAdam_pre_RMSE,NAdam_pre_MAE,NAdam_pre_R2=modelpre(NAdam_pre)"
   ],
   "metadata": {
    "collapsed": false,
    "pycharm": {
     "name": "#%%\n"
    }
   }
  },
  {
   "cell_type": "markdown",
   "source": [
    "adam"
   ],
   "metadata": {
    "collapsed": false,
    "pycharm": {
     "name": "#%% md\n"
    }
   }
  },
  {
   "cell_type": "code",
   "execution_count": null,
   "outputs": [],
   "source": [
    "Adam_pre = Adam.predict(x_test, verbose=0)\n",
    "Adam_pre_yhat,Adam_pre_y_r2,Adam_pre_MSE, Adam_pre_RMSE,Adam_pre_MAE,Adam_pre_R2=modelpre(Adam_pre)"
   ],
   "metadata": {
    "collapsed": false,
    "pycharm": {
     "name": "#%%\n"
    }
   }
  },
  {
   "cell_type": "code",
   "execution_count": null,
   "outputs": [],
   "source": [
    "MAE=[]\n",
    "MAE.append(adagrad_pre_MAE)\n",
    "MAE.append(Adam_pre_MAE)\n",
    "MAE.append(NAdam_pre_MAE)\n",
    "MAE.append(SGD_pre_MAE)\n",
    "plt.title('MAE')\n",
    "plt.bar(range(4),MAE,align = \"center\",color = \"steelblue\",alpha = 1.0)\n",
    "plt.xticks(range(4),['Adagrad','Adam','Nadam','SGD'])\n",
    "plt.show()"
   ],
   "metadata": {
    "collapsed": false,
    "pycharm": {
     "name": "#%%\n"
    }
   }
  },
  {
   "cell_type": "code",
   "execution_count": null,
   "outputs": [],
   "source": [
    "MSE=[]\n",
    "MSE.append(adagrad_pre_MSE)\n",
    "MSE.append(Adam_pre_MSE)\n",
    "MSE.append(NAdam_pre_MSE)\n",
    "MSE.append(SGD_pre_MSE)\n",
    "plt.title('MSE')\n",
    "plt.bar(range(4),MSE,align = \"center\",color = \"steelblue\",alpha = 1.0)\n",
    "plt.xticks(range(4),['Adagrad','Adam','Nadam','SGD'])\n",
    "plt.show()"
   ],
   "metadata": {
    "collapsed": false,
    "pycharm": {
     "name": "#%%\n"
    }
   }
  },
  {
   "cell_type": "code",
   "execution_count": null,
   "outputs": [],
   "source": [
    "RMSE=[]\n",
    "RMSE.append(adagrad_pre_RMSE)\n",
    "RMSE.append(Adam_pre_RMSE)\n",
    "RMSE.append(NAdam_pre_RMSE)\n",
    "RMSE.append(SGD_pre_RMSE)\n",
    "plt.title('RMSE')\n",
    "plt.bar(range(4),RMSE,align = \"center\",color = \"steelblue\",alpha = 1.0)\n",
    "plt.xticks(range(4),['Adagrad','Adam','Nadam','SGD'])\n",
    "plt.show()"
   ],
   "metadata": {
    "collapsed": false,
    "pycharm": {
     "name": "#%%\n"
    }
   }
  },
  {
   "cell_type": "code",
   "execution_count": null,
   "outputs": [],
   "source": [
    "type(RMSE)"
   ],
   "metadata": {
    "collapsed": false,
    "pycharm": {
     "name": "#%%\n"
    }
   }
  },
  {
   "cell_type": "code",
   "execution_count": null,
   "outputs": [],
   "source": [
    "R2=[]\n",
    "R2.append(adagrad_pre_R2)\n",
    "R2.append(Adam_pre_R2)\n",
    "R2.append(NAdam_pre_R2)\n",
    "R2.append(SGD_pre_R2)\n",
    "plt.title('R2_score')\n",
    "plt.bar(range(4),R2,align = \"center\",color = \"steelblue\",alpha = 1.0)\n",
    "plt.xticks(range(4),['Adagrad','Adam','Nadam','SGD'])\n",
    "plt.show()"
   ],
   "metadata": {
    "collapsed": false,
    "pycharm": {
     "name": "#%%\n"
    }
   }
  },
  {
   "cell_type": "code",
   "execution_count": null,
   "outputs": [],
   "source": [
    "sgd_16_pre=sgd16.predict(x_test, verbose=0)\n",
    "sgd_16_pre_yhat,sgd_16_pre_y_r2,sgd_16_pre_MSE, sgd_16_pre_RMSE,sgd_16_pre_MAE,sgd_16_pre_R2=modelpre(sgd_16_pre)\n",
    "sgd_32_pre=sgd32.predict(x_test, verbose=0)\n",
    "sgd_32_pre_yhat,sgd_32_pre_y_r2,sgd_32_pre_MSE, sgd_32_pre_RMSE,sgd_32_pre_MAE,sgd_32_pre_R2=modelpre(sgd_32_pre)\n",
    "sgd_64_pre=sgd64.predict(x_test, verbose=0)\n",
    "sgd_64_pre_yhat,sgd_64_pre_y_r2,sgd_64_pre_MSE, sgd_64_pre_RMSE,sgd_64_pre_MAE,sgd_64_pre_R2=modelpre(sgd_64_pre)\n",
    "sgd_128_pre=sgd128.predict(x_test, verbose=0)\n",
    "sgd_128_pre_yhat,sgd_128_pre_y_r2,sgd_128_pre_MSE, sgd_128_pre_RMSE,sgd_128_pre_MAE,sgd_128_pre_R2=modelpre(sgd_128_pre)\n",
    "sgd_256_pre=sgd256.predict(x_test, verbose=0)\n",
    "sgd_256_pre_yhat,sgd_256_pre_y_r2,sgd_256_pre_MSE, sgd_256_pre_RMSE,sgd_256_pre_MAE,sgd_256_pre_R2=modelpre(sgd_256_pre)"
   ],
   "metadata": {
    "collapsed": false,
    "pycharm": {
     "name": "#%%\n"
    }
   }
  },
  {
   "cell_type": "code",
   "execution_count": null,
   "outputs": [],
   "source": [
    "RMSE_betch_size=[]\n",
    "RMSE_betch_size.append(sgd_16_pre_RMSE)\n",
    "RMSE_betch_size.append(sgd_32_pre_RMSE)\n",
    "RMSE_betch_size.append(sgd_64_pre_RMSE)\n",
    "RMSE_betch_size.append(sgd_128_pre_RMSE)\n",
    "RMSE_betch_size.append(sgd_256_pre_RMSE)\n",
    "plt.title('RMSE')\n",
    "plt.bar(range(5),RMSE_betch_size,align = \"center\",color = \"steelblue\",alpha = 1.0)\n",
    "plt.xticks(range(5),['16','32','64','128','256'])\n",
    "plt.show()"
   ],
   "metadata": {
    "collapsed": false,
    "pycharm": {
     "name": "#%%\n"
    }
   }
  }
 ],
 "metadata": {
  "kernelspec": {
   "display_name": "Python 3",
   "language": "python",
   "name": "python3"
  },
  "language_info": {
   "codemirror_mode": {
    "name": "ipython",
    "version": 2
   },
   "file_extension": ".py",
   "mimetype": "text/x-python",
   "name": "python",
   "nbconvert_exporter": "python",
   "pygments_lexer": "ipython2",
   "version": "2.7.6"
  }
 },
 "nbformat": 4,
 "nbformat_minor": 0
}
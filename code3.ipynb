{
 "cells": [
  {
   "cell_type": "code",
   "execution_count": 1,
   "metadata": {
    "collapsed": true,
    "pycharm": {
     "name": "#%%\n"
    }
   },
   "outputs": [
    {
     "name": "stdout",
     "output_type": "stream",
     "text": [
      "WARNING:tensorflow:From C:\\Users\\覆水难收吗\\AppData\\Local\\Temp\\ipykernel_21940\\3027924537.py:3: The name tf.random.set_random_seed is deprecated. Please use tf.compat.v1.random.set_random_seed instead.\n",
      "\n"
     ]
    }
   ],
   "source": [
    "import tensorflow\n",
    "\n",
    "tensorflow.random.set_random_seed(5)\n",
    "from numpy.random import seed\n",
    "\n",
    "seed(5)\n",
    "import time\n",
    "import numpy as np\n",
    "\n",
    "np.random.seed(5)\n",
    "\n",
    "from sklearn.preprocessing import MinMaxScaler\n",
    "from sklearn.model_selection import train_test_split\n",
    "from sklearn.metrics import mean_absolute_error, mean_squared_error, r2_score\n",
    "from sklearn.metrics import r2_score\n",
    "from sklearn import preprocessing\n",
    "import matplotlib.pyplot as plt\n",
    "from tensorflow.python.keras.utils.vis_utils import plot_model\n",
    "\n",
    "from math import sqrt\n",
    "import pandas as pd\n",
    "\n",
    "from tensorflow.python.keras.layers import merge\n",
    "from tensorflow.python.keras.layers.core import *\n",
    "from tensorflow.python.keras.layers.recurrent import LSTM\n",
    "from tensorflow.python.keras.models import *\n",
    "from tensorflow.keras.layers import Input\n",
    "from tensorflow.keras.layers import Input, Dropout, Flatten, MaxPooling1D, TimeDistributed, GRU, SimpleRNN, \\\n",
    "    Bidirectional, RNN\n",
    "import tensorflow as tf\n",
    "from tensorflow.keras.optimizers import SGD, Adam\n",
    "from tensorflow.python.framework.ops import disable_eager_execution\n",
    "tf.test.is_gpu_available()\n",
    "china_v = pd.read_csv('D:\\project\\pythonProject2\\Japan.csv')\n",
    "china_data = china_v['value']\n",
    "scaler = MinMaxScaler()\n",
    "LOOK_BACK = 12\n",
    "FORECAST_RANGE = 1\n",
    "early_stop = tf.keras.callbacks.EarlyStopping(monitor='val_loss', min_delta=0.0001, patience=20)  # 早停回调"
   ]
  },
  {
   "cell_type": "markdown",
   "source": [
    "之前的方法"
   ],
   "metadata": {
    "collapsed": false,
    "pycharm": {
     "name": "#%% md\n"
    }
   }
  },
  {
   "cell_type": "code",
   "execution_count": 10,
   "outputs": [],
   "source": [
    "def first_diff(data):\n",
    "    \"\"\"\n",
    "    计算给定数据列表的相邻元素之间的差值。\n",
    "\n",
    "    参数:\n",
    "    data: 一个包含数字元素的列表或数组，可以是浮点数或整数。\n",
    "\n",
    "    返回值:\n",
    "    一个numpy数组，包含输入数据中相邻元素之间的差值，数据类型为float64。\n",
    "    \"\"\"\n",
    "    # 初始化用于存储差值的列表\n",
    "    data_diff = []\n",
    "    # 计算相邻元素之间的差值，并添加到data_diff列表中\n",
    "    for i in range(len(data) - 1):\n",
    "        data_diff.append(data[i + 1] - data[i])\n",
    "    # 将data_diff列表转换为numpy数组\n",
    "    data_diff = np.array(data_diff)\n",
    "    # 将数组的数据类型转换为float64并返回\n",
    "    return data_diff.astype(np.float64)\n",
    "\n",
    "\n",
    "def anti_first_diff(m, n):\n",
    "    data = []\n",
    "    for i in range(0, len(m)):\n",
    "        a = n[i] + m[i]\n",
    "        data.append(a)\n",
    "    return np.array(data).astype(\"float32\")\n",
    "\n",
    "\n",
    "def split_sequence(sequence, look_back, forecast_horizon):\n",
    "    X, y = list(), list()\n",
    "    for i in range(len(sequence)):\n",
    "        lag_end = i + look_back\n",
    "        forecast_end = lag_end + forecast_horizon\n",
    "        if forecast_end > len(sequence):\n",
    "            break\n",
    "        seq_x, seq_y = sequence[i:lag_end], sequence[lag_end:forecast_end]\n",
    "        X.append(seq_x)\n",
    "        y.append(seq_y)\n",
    "    return np.array(X), np.array(y)\n",
    "\n",
    "\n",
    "def inverse_transform(y_test, yhat):\n",
    "    y_test_reshaped = y_test.reshape(-1, y_test.shape[-1])\n",
    "    yhat_reshaped = yhat.reshape(-1, yhat.shape[-1])\n",
    "    yhat_inverse = scaler.inverse_transform(yhat_reshaped)\n",
    "    y_test_inverse = scaler.inverse_transform(y_test_reshaped)\n",
    "    return yhat_inverse, y_test_inverse\n",
    "\n",
    "\n",
    "def rmse(x, y):\n",
    "    return tf.sqrt(tf.reduce_mean(tf.square((x - y))))\n",
    "\n",
    "\n",
    "# 让模型侧重于输入维度的第几个维度，attention_column，目前是10,第11维\n",
    "def get_data_recurrent(x, y, attention_column=7):\n",
    "    y = y.reshape(y.shape[0], 1)\n",
    "    x[:, attention_column, :] = np.tile(y[:], (1, 1))\n",
    "    return x, y\n",
    "\n",
    "\n",
    "def attention_3d_block(inputs):\n",
    "    a = Permute((2, 1))(inputs)\n",
    "    a = Dense(LOOK_BACK, activation='softmax')(a)\n",
    "    a_probs = Permute((2, 1))(a)\n",
    "    # 相当于获得每一个step中，每个特征的权重\n",
    "    output_attention_mul = merge.multiply([inputs, a_probs])  # 新版本 keras\n",
    "    return output_attention_mul\n",
    "\n",
    "\n",
    "def get_attention_model(time_steps, input_dim, lstm_units=64):\n",
    "    inputs1 = Input(shape=(time_steps, input_dim))\n",
    "    lstm_out = GRU(lstm_units, return_sequences=True)(inputs1)\n",
    "    attention_mul = attention_3d_block(lstm_out)\n",
    "    attention_mul = Flatten()(attention_mul)\n",
    "    # attention_mul = Flatten()(lstm_out)\n",
    "    output = Dense(1)(attention_mul)\n",
    "    model = Model(inputs=[inputs1], outputs=output)\n",
    "    return model\n",
    "\n"
   ],
   "metadata": {
    "collapsed": false,
    "pycharm": {
     "name": "#%%\n"
    }
   }
  },
  {
   "cell_type": "markdown",
   "source": [
    "读入数据"
   ],
   "metadata": {
    "collapsed": false,
    "pycharm": {
     "name": "#%% md\n"
    }
   }
  },
  {
   "cell_type": "code",
   "execution_count": 3,
   "outputs": [],
   "source": [
    "china_v1 = china_data[:1610]\n",
    "china_v2 = china_data[1614:3224]\n",
    "china_v3 = china_data[3225:4835]\n",
    "china_v4 = china_data[4838:6448]\n",
    "china_v5 = china_data[6450:8060]\n",
    "china_v6 = china_data[8062:9672]"
   ],
   "metadata": {
    "collapsed": false,
    "pycharm": {
     "name": "#%%\n"
    }
   }
  },
  {
   "cell_type": "markdown",
   "source": [
    "数据预处理"
   ],
   "metadata": {
    "collapsed": false,
    "pycharm": {
     "name": "#%% md\n"
    }
   }
  },
  {
   "cell_type": "code",
   "execution_count": 4,
   "outputs": [],
   "source": [
    "def data_preprocessing(china_v1):\n",
    "    data = np.array(china_v1)\n",
    "    data = data.reshape(-1, 1)\n",
    "    tec_diff = first_diff(np.array(data))  # 进行差分进行平稳化\n",
    "    split_size = int(len(tec_diff) * 0.7)  # 前70%为训练集后30%为测试集\n",
    "    train, test = tec_diff[:split_size], tec_diff[split_size:]\n",
    "    scaled_train = scaler.fit_transform(train)\n",
    "    scaled_test = scaler.transform(test)  # fit_transform()的作用就是先拟合数据，然后转化它将其转化为标准形式\n",
    "    x_train, y_train = split_sequence(scaled_train, look_back=LOOK_BACK,\n",
    "                                      forecast_horizon=FORECAST_RANGE)  # fit_transform后使用前12个值预测第13个值\n",
    "    x_test, y_test = split_sequence(scaled_test, look_back=LOOK_BACK,\n",
    "                                forecast_horizon=FORECAST_RANGE)  # fit_transform后使用前12个值预测第13个值\n",
    "    xa, ya = split_sequence(np.array(data[int(len(tec_diff) * 0.7) + 1:]), look_back=LOOK_BACK,\n",
    "                        forecast_horizon=FORECAST_RANGE)  # 不进行归一化\n",
    "    return x_train, y_train, scaled_test, scaled_test,x_test,y_test,xa,ya,data"
   ],
   "metadata": {
    "collapsed": false,
    "pycharm": {
     "name": "#%%\n"
    }
   }
  },
  {
   "cell_type": "code",
   "execution_count": 5,
   "outputs": [],
   "source": [
    "def model(x_train, y_train):\n",
    "    INPUT_DIMS = 1\n",
    "    tf.random.set_random_seed(5)\n",
    "    model = get_attention_model(LOOK_BACK, INPUT_DIMS)\n",
    "    X, Y = get_data_recurrent(x_train, y_train)  # 将数据拼接\n",
    "    model.compile(optimizer='SGD', loss='mae')  # 实际优化器\n",
    "    history = model.fit(X, Y, epochs=20, callbacks=[early_stop], batch_size=64, verbose=2, shuffle=False,\n",
    "                        validation_split=0.1)\n",
    "    model.summary()  # 输出模型各层的参数状况\n",
    "    return model"
   ],
   "metadata": {
    "collapsed": false,
    "pycharm": {
     "name": "#%%\n"
    }
   }
  },
  {
   "cell_type": "code",
   "execution_count": 6,
   "outputs": [],
   "source": [
    "def result(data,yhat, y_test, ya):\n",
    "    yhat_inverse, y_test_inverse = inverse_transform(y_test, yhat)  # 预测值反归一化\n",
    "    y_pre = []\n",
    "    for i in range(yhat_inverse.shape[0]):\n",
    "        for j in range(yhat_inverse.shape[1]):\n",
    "            y_pre.append(yhat_inverse[i][j])\n",
    "            y = np.array(y_test_inverse)\n",
    "\n",
    "    y_pre = np.array(y_pre)  # 将y_pre转化为numpy数组\n",
    "    y = anti_first_diff(ya, y)\n",
    "    y_pre = anti_first_diff(ya, y_pre)  # y是实际值，y_pre是预测值\n",
    "\n",
    "    y_r, y_p = [], []  # y_r 真实值，y_p 预测值\n",
    "    for i in range(0, y.shape[0]):\n",
    "        for j in range(0, y.shape[1]):\n",
    "            y_r.append(y[i][j])\n",
    "            y_p.append(y_pre[i][j])\n",
    "    y_r1 = np.array(y_r)\n",
    "    y_p1 = np.array(y_p)\n",
    "    y_r2 = data[1139:]\n",
    "    x = np.arange(0, 1610, 1)\n",
    "    MAE = mean_absolute_error(y_r2, y_p1)\n",
    "    MSE = mean_squared_error(y_r2, y_p1)\n",
    "    RMSE = sqrt(mean_squared_error(y_r2, y_p1))\n",
    "    R2_score = r2_score(y_r2, y_p1)\n",
    "    output_value = []\n",
    "    output_value.append(MAE)\n",
    "    output_value.append(MSE)\n",
    "    output_value.append(RMSE)\n",
    "    output_value.append(R2_score)\n",
    "    output_value.append(int(using_time))\n",
    "    output_value = np.array(output_value)\n",
    "    output_data = pd.DataFrame(output_value)\n",
    "\n",
    "    output_data.index = ['MAE', 'MSE', 'RMSE', 'R2 Score', 'Time-consuming(s)']\n",
    "    print(output_data)\n",
    "    return output_data"
   ],
   "metadata": {
    "collapsed": false,
    "pycharm": {
     "name": "#%%\n"
    }
   }
  },
  {
   "cell_type": "code",
   "execution_count": 7,
   "outputs": [
    {
     "name": "stdout",
     "output_type": "stream",
     "text": [
      "WARNING:tensorflow:From D:\\tools\\anconda\\envs\\tensorflow-gpu\\lib\\site-packages\\tensorflow_core\\python\\ops\\resource_variable_ops.py:1630: calling BaseResourceVariable.__init__ (from tensorflow.python.ops.resource_variable_ops) with constraint is deprecated and will be removed in a future version.\n",
      "Instructions for updating:\n",
      "If using Keras pass *_constraint arguments to layers.\n",
      "WARNING:tensorflow:From D:\\tools\\anconda\\envs\\tensorflow-gpu\\lib\\site-packages\\tensorflow_core\\python\\ops\\math_grad.py:1424: where (from tensorflow.python.ops.array_ops) is deprecated and will be removed in a future version.\n",
      "Instructions for updating:\n",
      "Use tf.where in 2.0, which has the same broadcast rule as np.where\n",
      "Train on 1002 samples, validate on 112 samples\n",
      "Epoch 1/20\n",
      "1002/1002 - 2s - loss: 0.4539 - val_loss: 0.3702\n",
      "Epoch 2/20\n",
      "1002/1002 - 0s - loss: 0.2984 - val_loss: 0.2277\n",
      "Epoch 3/20\n",
      "1002/1002 - 0s - loss: 0.1892 - val_loss: 0.1486\n",
      "Epoch 4/20\n",
      "1002/1002 - 1s - loss: 0.1415 - val_loss: 0.1230\n",
      "Epoch 5/20\n",
      "1002/1002 - 1s - loss: 0.1292 - val_loss: 0.1193\n",
      "Epoch 6/20\n",
      "1002/1002 - 0s - loss: 0.1271 - val_loss: 0.1189\n",
      "Epoch 7/20\n",
      "1002/1002 - 1s - loss: 0.1268 - val_loss: 0.1189\n",
      "Epoch 8/20\n",
      "1002/1002 - 0s - loss: 0.1268 - val_loss: 0.1190\n",
      "Epoch 9/20\n",
      "1002/1002 - 0s - loss: 0.1267 - val_loss: 0.1190\n",
      "Epoch 10/20\n",
      "1002/1002 - 1s - loss: 0.1267 - val_loss: 0.1190\n",
      "Epoch 11/20\n",
      "1002/1002 - 1s - loss: 0.1267 - val_loss: 0.1190\n",
      "Epoch 12/20\n",
      "1002/1002 - 1s - loss: 0.1267 - val_loss: 0.1190\n",
      "Epoch 13/20\n",
      "1002/1002 - 1s - loss: 0.1267 - val_loss: 0.1190\n",
      "Epoch 14/20\n",
      "1002/1002 - 1s - loss: 0.1267 - val_loss: 0.1190\n",
      "Epoch 15/20\n",
      "1002/1002 - 0s - loss: 0.1267 - val_loss: 0.1190\n",
      "Epoch 16/20\n",
      "1002/1002 - 1s - loss: 0.1267 - val_loss: 0.1190\n",
      "Epoch 17/20\n",
      "1002/1002 - 0s - loss: 0.1267 - val_loss: 0.1190\n",
      "Epoch 18/20\n",
      "1002/1002 - 0s - loss: 0.1267 - val_loss: 0.1190\n",
      "Epoch 19/20\n",
      "1002/1002 - 1s - loss: 0.1267 - val_loss: 0.1189\n",
      "Epoch 20/20\n",
      "1002/1002 - 1s - loss: 0.1266 - val_loss: 0.1189\n",
      "Model: \"model\"\n",
      "__________________________________________________________________________________________________\n",
      "Layer (type)                    Output Shape         Param #     Connected to                     \n",
      "==================================================================================================\n",
      "input_1 (InputLayer)            [(None, 12, 1)]      0                                            \n",
      "__________________________________________________________________________________________________\n",
      "gru (GRU)                       (None, 12, 64)       12672       input_1[0][0]                    \n",
      "__________________________________________________________________________________________________\n",
      "permute (Permute)               (None, 64, 12)       0           gru[0][0]                        \n",
      "__________________________________________________________________________________________________\n",
      "dense (Dense)                   (None, 64, 12)       156         permute[0][0]                    \n",
      "__________________________________________________________________________________________________\n",
      "permute_1 (Permute)             (None, 12, 64)       0           dense[0][0]                      \n",
      "__________________________________________________________________________________________________\n",
      "multiply (Multiply)             (None, 12, 64)       0           gru[0][0]                        \n",
      "                                                                 permute_1[0][0]                  \n",
      "__________________________________________________________________________________________________\n",
      "flatten (Flatten)               (None, 768)          0           multiply[0][0]                   \n",
      "__________________________________________________________________________________________________\n",
      "dense_1 (Dense)                 (None, 1)            769         flatten[0][0]                    \n",
      "==================================================================================================\n",
      "Total params: 13,597\n",
      "Trainable params: 13,597\n",
      "Non-trainable params: 0\n",
      "__________________________________________________________________________________________________\n",
      "                           0\n",
      "MAE                 0.004985\n",
      "MSE                 0.000026\n",
      "RMSE                0.005115\n",
      "R2 Score            0.999661\n",
      "Time-consuming(s)  12.000000\n"
     ]
    }
   ],
   "source": [
    "x1=data_preprocessing(china_v1)\n",
    "start = time.perf_counter()\n",
    "tf.random.set_random_seed(5)\n",
    "model1=model(x1[0],x1[1])\n",
    "yhat1=model1.predict(x1[4])\n",
    "using_time = time.perf_counter() - start\n",
    "output1=result(x1[8],yhat1,x1[5],x1[7])"
   ],
   "metadata": {
    "collapsed": false,
    "pycharm": {
     "name": "#%%\n"
    }
   }
  },
  {
   "cell_type": "code",
   "execution_count": 8,
   "outputs": [
    {
     "name": "stdout",
     "output_type": "stream",
     "text": [
      "Train on 1002 samples, validate on 112 samples\n",
      "Epoch 1/20\n",
      "1002/1002 - 1s - loss: 0.4108 - val_loss: 0.3223\n",
      "Epoch 2/20\n",
      "1002/1002 - 0s - loss: 0.2527 - val_loss: 0.1758\n",
      "Epoch 3/20\n",
      "1002/1002 - 0s - loss: 0.1397 - val_loss: 0.0993\n",
      "Epoch 4/20\n",
      "1002/1002 - 0s - loss: 0.1011 - val_loss: 0.0856\n",
      "Epoch 5/20\n",
      "1002/1002 - 0s - loss: 0.0957 - val_loss: 0.0848\n",
      "Epoch 6/20\n",
      "1002/1002 - 0s - loss: 0.0953 - val_loss: 0.0849\n",
      "Epoch 7/20\n",
      "1002/1002 - 0s - loss: 0.0953 - val_loss: 0.0849\n",
      "Epoch 8/20\n",
      "1002/1002 - 0s - loss: 0.0953 - val_loss: 0.0849\n",
      "Epoch 9/20\n",
      "1002/1002 - 0s - loss: 0.0953 - val_loss: 0.0849\n",
      "Epoch 10/20\n",
      "1002/1002 - 0s - loss: 0.0953 - val_loss: 0.0849\n",
      "Epoch 11/20\n",
      "1002/1002 - 0s - loss: 0.0953 - val_loss: 0.0849\n",
      "Epoch 12/20\n",
      "1002/1002 - 0s - loss: 0.0953 - val_loss: 0.0849\n",
      "Epoch 13/20\n",
      "1002/1002 - 0s - loss: 0.0953 - val_loss: 0.0849\n",
      "Epoch 14/20\n",
      "1002/1002 - 0s - loss: 0.0953 - val_loss: 0.0849\n",
      "Epoch 15/20\n",
      "1002/1002 - 0s - loss: 0.0953 - val_loss: 0.0849\n",
      "Epoch 16/20\n",
      "1002/1002 - 0s - loss: 0.0952 - val_loss: 0.0849\n",
      "Epoch 17/20\n",
      "1002/1002 - 0s - loss: 0.0952 - val_loss: 0.0849\n",
      "Epoch 18/20\n",
      "1002/1002 - 0s - loss: 0.0952 - val_loss: 0.0849\n",
      "Epoch 19/20\n",
      "1002/1002 - 0s - loss: 0.0952 - val_loss: 0.0849\n",
      "Epoch 20/20\n",
      "1002/1002 - 0s - loss: 0.0952 - val_loss: 0.0849\n",
      "Model: \"model_1\"\n",
      "__________________________________________________________________________________________________\n",
      "Layer (type)                    Output Shape         Param #     Connected to                     \n",
      "==================================================================================================\n",
      "input_2 (InputLayer)            [(None, 12, 1)]      0                                            \n",
      "__________________________________________________________________________________________________\n",
      "gru_1 (GRU)                     (None, 12, 64)       12672       input_2[0][0]                    \n",
      "__________________________________________________________________________________________________\n",
      "permute_2 (Permute)             (None, 64, 12)       0           gru_1[0][0]                      \n",
      "__________________________________________________________________________________________________\n",
      "dense_2 (Dense)                 (None, 64, 12)       156         permute_2[0][0]                  \n",
      "__________________________________________________________________________________________________\n",
      "permute_3 (Permute)             (None, 12, 64)       0           dense_2[0][0]                    \n",
      "__________________________________________________________________________________________________\n",
      "multiply_1 (Multiply)           (None, 12, 64)       0           gru_1[0][0]                      \n",
      "                                                                 permute_3[0][0]                  \n",
      "__________________________________________________________________________________________________\n",
      "flatten_1 (Flatten)             (None, 768)          0           multiply_1[0][0]                 \n",
      "__________________________________________________________________________________________________\n",
      "dense_3 (Dense)                 (None, 1)            769         flatten_1[0][0]                  \n",
      "==================================================================================================\n",
      "Total params: 13,597\n",
      "Trainable params: 13,597\n",
      "Non-trainable params: 0\n",
      "__________________________________________________________________________________________________\n",
      "                          0\n",
      "MAE                0.021991\n",
      "MSE                0.000484\n",
      "RMSE               0.021999\n",
      "R2 Score           0.950776\n",
      "Time-consuming(s)  9.000000\n"
     ]
    }
   ],
   "source": [
    "x2=data_preprocessing(china_v2)\n",
    "start = time.perf_counter()\n",
    "tf.random.set_random_seed(5)\n",
    "model2=model(x2[0],x2[1])\n",
    "yhat2=model1.predict(x2[4])\n",
    "using_time = time.perf_counter() - start\n",
    "output2=result(x2[8],yhat2,x2[5],x2[7])"
   ],
   "metadata": {
    "collapsed": false,
    "pycharm": {
     "name": "#%%\n"
    }
   }
  },
  {
   "cell_type": "code",
   "execution_count": null,
   "outputs": [],
   "source": [],
   "metadata": {
    "collapsed": false,
    "pycharm": {
     "name": "#%%\n"
    }
   }
  }
 ],
 "metadata": {
  "kernelspec": {
   "display_name": "Python 3",
   "language": "python",
   "name": "python3"
  },
  "language_info": {
   "codemirror_mode": {
    "name": "ipython",
    "version": 2
   },
   "file_extension": ".py",
   "mimetype": "text/x-python",
   "name": "python",
   "nbconvert_exporter": "python",
   "pygments_lexer": "ipython2",
   "version": "2.7.6"
  }
 },
 "nbformat": 4,
 "nbformat_minor": 0
}
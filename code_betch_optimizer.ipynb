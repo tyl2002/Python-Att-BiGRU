{
 "cells": [
  {
   "cell_type": "code",
   "execution_count": 1,
   "metadata": {
    "collapsed": true,
    "pycharm": {
     "name": "#%%\n"
    }
   },
   "outputs": [
    {
     "name": "stdout",
     "output_type": "stream",
     "text": [
      "WARNING:tensorflow:From C:\\Users\\覆水难收吗\\AppData\\Local\\Temp\\ipykernel_78976\\3027924537.py:3: The name tf.random.set_random_seed is deprecated. Please use tf.compat.v1.random.set_random_seed instead.\n",
      "\n"
     ]
    }
   ],
   "source": [
    "import tensorflow\n",
    "\n",
    "tensorflow.random.set_random_seed(5)\n",
    "from numpy.random import seed\n",
    "\n",
    "seed(5)\n",
    "import time\n",
    "import numpy as np\n",
    "\n",
    "np.random.seed(5)\n",
    "\n",
    "from sklearn.preprocessing import MinMaxScaler\n",
    "from sklearn.model_selection import train_test_split\n",
    "from sklearn.metrics import mean_absolute_error, mean_squared_error, r2_score\n",
    "from sklearn.metrics import r2_score\n",
    "from sklearn import preprocessing\n",
    "import matplotlib.pyplot as plt\n",
    "from tensorflow.python.keras.utils.vis_utils import plot_model\n",
    "\n",
    "from math import sqrt\n",
    "import pandas as pd\n",
    "\n",
    "from tensorflow.python.keras.layers import merge\n",
    "from tensorflow.python.keras.layers.core import *\n",
    "from tensorflow.python.keras.layers.recurrent import LSTM\n",
    "from tensorflow.python.keras.models import *\n",
    "from tensorflow.keras.layers import Input\n",
    "from tensorflow.keras.layers import Input, Dropout, Flatten, MaxPooling1D, TimeDistributed, GRU, SimpleRNN, \\\n",
    "    Bidirectional, RNN\n",
    "import tensorflow as tf\n",
    "from tensorflow.keras.optimizers import SGD, Adam\n",
    "from tensorflow.python.framework.ops import disable_eager_execution\n",
    "tf.test.is_gpu_available()\n",
    "china_v = pd.read_csv('D:\\project\\pythonProject2\\Japan.csv')\n",
    "china_data = china_v['value']\n",
    "scaler = MinMaxScaler()\n",
    "LOOK_BACK = 12\n",
    "FORECAST_RANGE = 1\n",
    "early_stop = tf.keras.callbacks.EarlyStopping(monitor='val_loss', min_delta=0.0001, patience=20)  # 早停回调"
   ]
  },
  {
   "cell_type": "markdown",
   "source": [
    "之前的方法"
   ],
   "metadata": {
    "collapsed": false,
    "pycharm": {
     "name": "#%% md\n"
    }
   }
  },
  {
   "cell_type": "code",
   "execution_count": 2,
   "outputs": [],
   "source": [
    "def first_diff(data):\n",
    "    \"\"\"\n",
    "    计算给定数据列表的相邻元素之间的差值。\n",
    "\n",
    "    参数:\n",
    "    data: 一个包含数字元素的列表或数组，可以是浮点数或整数。\n",
    "\n",
    "    返回值:\n",
    "    一个numpy数组，包含输入数据中相邻元素之间的差值，数据类型为float64。\n",
    "    \"\"\"\n",
    "    # 初始化用于存储差值的列表\n",
    "    data_diff = []\n",
    "    # 计算相邻元素之间的差值，并添加到data_diff列表中\n",
    "    for i in range(len(data) - 1):\n",
    "        data_diff.append(data[i + 1] - data[i])\n",
    "    # 将data_diff列表转换为numpy数组\n",
    "    data_diff = np.array(data_diff)\n",
    "    # 将数组的数据类型转换为float64并返回\n",
    "    return data_diff.astype(np.float64)\n",
    "\n",
    "\n",
    "def anti_first_diff(m, n):\n",
    "    data = []\n",
    "    for i in range(0, len(m)):\n",
    "        a = n[i] + m[i]\n",
    "        data.append(a)\n",
    "    return np.array(data).astype(\"float32\")\n",
    "\n",
    "\n",
    "def split_sequence(sequence, look_back, forecast_horizon):\n",
    "    X, y = list(), list()\n",
    "    for i in range(len(sequence)):\n",
    "        lag_end = i + look_back\n",
    "        forecast_end = lag_end + forecast_horizon\n",
    "        if forecast_end > len(sequence):\n",
    "            break\n",
    "        seq_x, seq_y = sequence[i:lag_end], sequence[lag_end:forecast_end]\n",
    "        X.append(seq_x)\n",
    "        y.append(seq_y)\n",
    "    return np.array(X), np.array(y)\n",
    "\n",
    "\n",
    "def inverse_transform(y_test, yhat):\n",
    "    y_test_reshaped = y_test.reshape(-1, y_test.shape[-1])\n",
    "    yhat_reshaped = yhat.reshape(-1, yhat.shape[-1])\n",
    "    yhat_inverse = scaler.inverse_transform(yhat_reshaped)\n",
    "    y_test_inverse = scaler.inverse_transform(y_test_reshaped)\n",
    "    return yhat_inverse, y_test_inverse\n",
    "\n",
    "\n",
    "def rmse(x, y):\n",
    "    return tf.sqrt(tf.reduce_mean(tf.square((x - y))))\n",
    "\n",
    "\n",
    "# 让模型侧重于输入维度的第几个维度，attention_column，目前是10,第11维\n",
    "def get_data_recurrent(x, y, attention_column=7):\n",
    "    y = y.reshape(y.shape[0], 1)\n",
    "    x[:, attention_column, :] = np.tile(y[:], (1, 1))\n",
    "    return x, y\n",
    "\n",
    "\n",
    "def attention_3d_block(inputs):\n",
    "    a = Permute((2, 1))(inputs)\n",
    "    a = Dense(LOOK_BACK, activation='softmax')(a)\n",
    "    a_probs = Permute((2, 1))(a)\n",
    "    # 相当于获得每一个step中，每个特征的权重\n",
    "    output_attention_mul = merge.multiply([inputs, a_probs])  # 新版本 keras\n",
    "    return output_attention_mul\n",
    "\n",
    "\n",
    "def get_attention_model(time_steps, input_dim, lstm_units=64):\n",
    "    inputs1 = Input(shape=(time_steps, input_dim))\n",
    "    lstm_out = GRU(lstm_units, return_sequences=True)(inputs1)\n",
    "    attention_mul = attention_3d_block(lstm_out)\n",
    "    attention_mul = Flatten()(attention_mul)\n",
    "    # attention_mul = Flatten()(lstm_out)\n",
    "    output = Dense(1)(attention_mul)\n",
    "    model = Model(inputs=[inputs1], outputs=output)\n",
    "    return model\n",
    "\n"
   ],
   "metadata": {
    "collapsed": false,
    "pycharm": {
     "name": "#%%\n"
    }
   }
  },
  {
   "cell_type": "markdown",
   "source": [
    "读入数据"
   ],
   "metadata": {
    "collapsed": false,
    "pycharm": {
     "name": "#%% md\n"
    }
   }
  },
  {
   "cell_type": "code",
   "execution_count": 3,
   "outputs": [],
   "source": [
    "china_v1 = china_data[:1610]\n",
    "china_v2 = china_data[1614:3224]\n",
    "china_v3 = china_data[3225:4835]\n",
    "china_v4 = china_data[4838:6448]\n",
    "china_v5 = china_data[6450:8060]\n",
    "china_v6 = china_data[8062:9672]"
   ],
   "metadata": {
    "collapsed": false,
    "pycharm": {
     "name": "#%%\n"
    }
   }
  },
  {
   "cell_type": "markdown",
   "source": [
    "数据预处理"
   ],
   "metadata": {
    "collapsed": false,
    "pycharm": {
     "name": "#%% md\n"
    }
   }
  },
  {
   "cell_type": "code",
   "execution_count": 4,
   "outputs": [],
   "source": [
    "def data_preprocessing(china_v1):\n",
    "    data = np.array(china_v1)\n",
    "    data = data.reshape(-1, 1)\n",
    "    tec_diff = first_diff(np.array(data))  # 进行差分进行平稳化\n",
    "    split_size = int(len(tec_diff) * 0.7)  # 前70%为训练集后30%为测试集\n",
    "    train, test = tec_diff[:split_size], tec_diff[split_size:]\n",
    "    scaled_train = scaler.fit_transform(train)\n",
    "    scaled_test = scaler.transform(test)  # fit_transform()的作用就是先拟合数据，然后转化它将其转化为标准形式\n",
    "    x_train, y_train = split_sequence(scaled_train, look_back=LOOK_BACK,\n",
    "                                      forecast_horizon=FORECAST_RANGE)  # fit_transform后使用前12个值预测第13个值\n",
    "    x_test, y_test = split_sequence(scaled_test, look_back=LOOK_BACK,\n",
    "                                forecast_horizon=FORECAST_RANGE)  # fit_transform后使用前12个值预测第13个值\n",
    "    xa, ya = split_sequence(np.array(data[int(len(tec_diff) * 0.7) + 1:]), look_back=LOOK_BACK,\n",
    "                        forecast_horizon=FORECAST_RANGE)  # 不进行归一化\n",
    "    return x_train, y_train, scaled_test, scaled_test,x_test,y_test,xa,ya,data"
   ],
   "metadata": {
    "collapsed": false,
    "pycharm": {
     "name": "#%%\n"
    }
   }
  },
  {
   "cell_type": "code",
   "execution_count": 5,
   "outputs": [],
   "source": [
    "def model(x_train, y_train,optimizer,betch_size):\n",
    "    INPUT_DIMS = 1\n",
    "    tf.random.set_random_seed(5)\n",
    "    model = get_attention_model(LOOK_BACK, INPUT_DIMS)\n",
    "    X, Y = get_data_recurrent(x_train, y_train)  # 将数据拼接\n",
    "    model.compile(optimizer=optimizer, loss='mae',)  # 实际优化器\n",
    "    model.fit(X, Y, epochs=100, callbacks=[early_stop], batch_size=betch_size, verbose=2, shuffle=False,\n",
    "                        validation_split=0.1)\n",
    "    model.summary()  # 输出模型各层的参数状况\n",
    "    return model"
   ],
   "metadata": {
    "collapsed": false,
    "pycharm": {
     "name": "#%%\n"
    }
   }
  },
  {
   "cell_type": "code",
   "execution_count": 6,
   "outputs": [],
   "source": [
    "def result(data,yhat, y_test, ya):\n",
    "    yhat_inverse, y_test_inverse = inverse_transform(y_test, yhat)  # 预测值反归一化\n",
    "    y_pre = []\n",
    "    for i in range(yhat_inverse.shape[0]):\n",
    "        for j in range(yhat_inverse.shape[1]):\n",
    "            y_pre.append(yhat_inverse[i][j])\n",
    "            y = np.array(y_test_inverse)\n",
    "\n",
    "    y_pre = np.array(y_pre)  # 将y_pre转化为numpy数组\n",
    "    y = anti_first_diff(ya, y)\n",
    "    y_pre = anti_first_diff(ya, y_pre)  # y是实际值，y_pre是预测值\n",
    "\n",
    "    y_r, y_p = [], []  # y_r 真实值，y_p 预测值\n",
    "    for i in range(0, y.shape[0]):\n",
    "        for j in range(0, y.shape[1]):\n",
    "            y_r.append(y[i][j])\n",
    "            y_p.append(y_pre[i][j])\n",
    "    y_r1 = np.array(y_r)\n",
    "    y_p1 = np.array(y_p)\n",
    "    y_r2 = data[1139:]\n",
    "    x = np.arange(0, 1610, 1)\n",
    "    MAE = mean_absolute_error(y_r2, y_p1)\n",
    "    MSE = mean_squared_error(y_r2, y_p1)\n",
    "    RMSE = sqrt(mean_squared_error(y_r2, y_p1))\n",
    "    R2_score = r2_score(y_r2, y_p1)\n",
    "    output_value = []\n",
    "    output_value.append(MAE)\n",
    "    output_value.append(MSE)\n",
    "    output_value.append(RMSE)\n",
    "    output_value.append(R2_score)\n",
    "    output_value.append(int(using_time))\n",
    "    output_value = np.array(output_value)\n",
    "    output_data = pd.DataFrame(output_value)\n",
    "\n",
    "    output_data.index = ['MAE', 'MSE', 'RMSE', 'R2 Score', 'Time-consuming(s)']\n",
    "    print(output_data)\n",
    "    return output_data"
   ],
   "metadata": {
    "collapsed": false,
    "pycharm": {
     "name": "#%%\n"
    }
   }
  },
  {
   "cell_type": "markdown",
   "source": [
    "<h1>优化器</h1>"
   ],
   "metadata": {
    "collapsed": false,
    "pycharm": {
     "name": "#%% md\n"
    }
   }
  },
  {
   "cell_type": "code",
   "execution_count": 7,
   "outputs": [
    {
     "name": "stdout",
     "output_type": "stream",
     "text": [
      "WARNING:tensorflow:From D:\\tools\\anconda\\envs\\tensorflow-gpu\\lib\\site-packages\\tensorflow_core\\python\\ops\\resource_variable_ops.py:1630: calling BaseResourceVariable.__init__ (from tensorflow.python.ops.resource_variable_ops) with constraint is deprecated and will be removed in a future version.\n",
      "Instructions for updating:\n",
      "If using Keras pass *_constraint arguments to layers.\n",
      "WARNING:tensorflow:From D:\\tools\\anconda\\envs\\tensorflow-gpu\\lib\\site-packages\\tensorflow_core\\python\\ops\\math_grad.py:1424: where (from tensorflow.python.ops.array_ops) is deprecated and will be removed in a future version.\n",
      "Instructions for updating:\n",
      "Use tf.where in 2.0, which has the same broadcast rule as np.where\n",
      "Train on 1002 samples, validate on 112 samples\n",
      "Epoch 1/100\n",
      "1002/1002 - 1s - loss: 0.4539 - val_loss: 0.3702\n",
      "Epoch 2/100\n",
      "1002/1002 - 0s - loss: 0.2984 - val_loss: 0.2277\n",
      "Epoch 3/100\n",
      "1002/1002 - 0s - loss: 0.1892 - val_loss: 0.1486\n",
      "Epoch 4/100\n",
      "1002/1002 - 0s - loss: 0.1415 - val_loss: 0.1230\n",
      "Epoch 5/100\n",
      "1002/1002 - 0s - loss: 0.1292 - val_loss: 0.1193\n",
      "Epoch 6/100\n",
      "1002/1002 - 0s - loss: 0.1271 - val_loss: 0.1189\n",
      "Epoch 7/100\n",
      "1002/1002 - 0s - loss: 0.1268 - val_loss: 0.1189\n",
      "Epoch 8/100\n",
      "1002/1002 - 0s - loss: 0.1268 - val_loss: 0.1190\n",
      "Epoch 9/100\n",
      "1002/1002 - 0s - loss: 0.1267 - val_loss: 0.1190\n",
      "Epoch 10/100\n",
      "1002/1002 - 0s - loss: 0.1267 - val_loss: 0.1190\n",
      "Epoch 11/100\n",
      "1002/1002 - 0s - loss: 0.1267 - val_loss: 0.1190\n",
      "Epoch 12/100\n",
      "1002/1002 - 0s - loss: 0.1267 - val_loss: 0.1190\n",
      "Epoch 13/100\n",
      "1002/1002 - 0s - loss: 0.1267 - val_loss: 0.1190\n",
      "Epoch 14/100\n",
      "1002/1002 - 0s - loss: 0.1267 - val_loss: 0.1190\n",
      "Epoch 15/100\n",
      "1002/1002 - 0s - loss: 0.1267 - val_loss: 0.1190\n",
      "Epoch 16/100\n",
      "1002/1002 - 0s - loss: 0.1267 - val_loss: 0.1190\n",
      "Epoch 17/100\n",
      "1002/1002 - 0s - loss: 0.1267 - val_loss: 0.1190\n",
      "Epoch 18/100\n",
      "1002/1002 - 0s - loss: 0.1267 - val_loss: 0.1190\n",
      "Epoch 19/100\n",
      "1002/1002 - 0s - loss: 0.1267 - val_loss: 0.1189\n",
      "Epoch 20/100\n",
      "1002/1002 - 0s - loss: 0.1266 - val_loss: 0.1189\n",
      "Epoch 21/100\n",
      "1002/1002 - 0s - loss: 0.1266 - val_loss: 0.1189\n",
      "Epoch 22/100\n",
      "1002/1002 - 0s - loss: 0.1266 - val_loss: 0.1189\n",
      "Epoch 23/100\n",
      "1002/1002 - 0s - loss: 0.1266 - val_loss: 0.1189\n",
      "Epoch 24/100\n",
      "1002/1002 - 0s - loss: 0.1266 - val_loss: 0.1189\n",
      "Epoch 25/100\n",
      "1002/1002 - 0s - loss: 0.1266 - val_loss: 0.1189\n",
      "Epoch 26/100\n",
      "1002/1002 - 0s - loss: 0.1266 - val_loss: 0.1189\n",
      "Model: \"model\"\n",
      "__________________________________________________________________________________________________\n",
      "Layer (type)                    Output Shape         Param #     Connected to                     \n",
      "==================================================================================================\n",
      "input_1 (InputLayer)            [(None, 12, 1)]      0                                            \n",
      "__________________________________________________________________________________________________\n",
      "gru (GRU)                       (None, 12, 64)       12672       input_1[0][0]                    \n",
      "__________________________________________________________________________________________________\n",
      "permute (Permute)               (None, 64, 12)       0           gru[0][0]                        \n",
      "__________________________________________________________________________________________________\n",
      "dense (Dense)                   (None, 64, 12)       156         permute[0][0]                    \n",
      "__________________________________________________________________________________________________\n",
      "permute_1 (Permute)             (None, 12, 64)       0           dense[0][0]                      \n",
      "__________________________________________________________________________________________________\n",
      "multiply (Multiply)             (None, 12, 64)       0           gru[0][0]                        \n",
      "                                                                 permute_1[0][0]                  \n",
      "__________________________________________________________________________________________________\n",
      "flatten (Flatten)               (None, 768)          0           multiply[0][0]                   \n",
      "__________________________________________________________________________________________________\n",
      "dense_1 (Dense)                 (None, 1)            769         flatten[0][0]                    \n",
      "==================================================================================================\n",
      "Total params: 13,597\n",
      "Trainable params: 13,597\n",
      "Non-trainable params: 0\n",
      "__________________________________________________________________________________________________\n",
      "                           0\n",
      "MAE                 0.004891\n",
      "MSE                 0.000025\n",
      "RMSE                0.005027\n",
      "R2 Score            0.999672\n",
      "Time-consuming(s)  11.000000\n"
     ]
    }
   ],
   "source": [
    "x1=data_preprocessing(china_v1)\n",
    "start = time.perf_counter()\n",
    "tf.random.set_random_seed(5)\n",
    "model1=model(x1[0],x1[1],'SGD',64)\n",
    "yhat1=model1.predict(x1[4])\n",
    "using_time = time.perf_counter() - start\n",
    "output1=result(x1[8],yhat1,x1[5],x1[7])"
   ],
   "metadata": {
    "collapsed": false,
    "pycharm": {
     "name": "#%%\n"
    }
   }
  },
  {
   "cell_type": "code",
   "execution_count": 8,
   "outputs": [
    {
     "ename": "SyntaxError",
     "evalue": "invalid syntax (3301196486.py, line 1)",
     "output_type": "error",
     "traceback": [
      "\u001B[1;36m  File \u001B[1;32m\"C:\\Users\\覆水难收吗\\AppData\\Local\\Temp\\ipykernel_78976\\3301196486.py\"\u001B[1;36m, line \u001B[1;32m1\u001B[0m\n\u001B[1;33m    //\u001B[0m\n\u001B[1;37m     ^\u001B[0m\n\u001B[1;31mSyntaxError\u001B[0m\u001B[1;31m:\u001B[0m invalid syntax\n"
     ]
    }
   ],
   "source": [
    "//\n",
    "model2=model(x1[0],x1[1],'Adam',64)\n",
    "yhat2=model2.predict(x1[4])\n",
    "using_time = time.perf_counter() - start\n",
    "output2=result(x1[8],yhat2,x1[5],x1[7])"
   ],
   "metadata": {
    "collapsed": false,
    "pycharm": {
     "name": "#%%\n"
    }
   }
  },
  {
   "cell_type": "code",
   "execution_count": null,
   "outputs": [],
   "source": [
    "model3=model(x1[0],x1[1],'Adagrad',64)\n",
    "yhat3=model3.predict(x1[4])\n",
    "using_time = time.perf_counter() - start\n",
    "output3=result(x1[8],yhat3,x1[5],x1[7])"
   ],
   "metadata": {
    "collapsed": false,
    "pycharm": {
     "name": "#%%\n"
    }
   }
  },
  {
   "cell_type": "code",
   "execution_count": null,
   "outputs": [],
   "source": [
    "model4=model(x1[0],x1[1],'Nadam',64)\n",
    "yhat4=model4.predict(x1[4])\n",
    "using_time = time.perf_counter() - start\n",
    "output4=result(x1[8],yhat4,x1[5],x1[7])"
   ],
   "metadata": {
    "collapsed": false,
    "pycharm": {
     "name": "#%%\n"
    }
   }
  },
  {
   "cell_type": "markdown",
   "source": [
    "<h1>结果</h1>"
   ],
   "metadata": {
    "collapsed": false,
    "pycharm": {
     "name": "#%% md\n"
    }
   }
  },
  {
   "cell_type": "code",
   "execution_count": null,
   "outputs": [],
   "source": [
    "x_opt=[1,2]  # 确定柱状图数量,可以认为是x方向刻度\n",
    "x_label=['MAE','RMSE']\n",
    "# x_label = ['SGD','Adam','Adagrand','Nadam']\n",
    "plt.rcParams.update({'font.size': 8})\n",
    "plt.xticks(x_opt, x_label)  # 绘制x刻度标签\n",
    "y_opt_SGD=[output1[0][0],output1[0][2]]\n",
    "y_opt_Adam=[output2[0][0],output2[0][2]]\n",
    "y_opt_Adagrand=[output3[0][0],output3[0][2]]\n",
    "y_opt_Nadam=[output4[0][0],output4[0][2]]\n",
    "plt.bar(x_opt,y_opt_SGD,width=-0.3,color='r',align='edge',label='SGD',hatch='//')\n",
    "plt.bar(x_opt,y_opt_Adagrand,width=-0.15,align='edge',label='Adagrad',hatch='\\\\')\n",
    "plt.bar(x_opt,y_opt_Nadam,width=0.3,color='pink',align='edge',label='Nadam',hatch='-')\n",
    "plt.bar(x_opt,y_opt_Adam,width=0.15,color='g',align='edge',label='Adam',hatch='*')\n",
    "# plt.bar(x_opt,y_opt_mae,width=-0.3,align='edge',label='MAE',hatch='//')\n",
    "# plt.bar(x_opt,y_opt_rmse,width=0.3,color='b',align='edge',label='RMSE')\n",
    "plt.legend(loc='best')\n",
    "plt.show()\n"
   ],
   "metadata": {
    "collapsed": false,
    "pycharm": {
     "name": "#%%\n"
    }
   }
  },
  {
   "cell_type": "code",
   "execution_count": null,
   "outputs": [],
   "source": [
    "x_label_r2=['R-Square']\n",
    "x_opt_r2=[1]\n",
    "plt.xticks(x_opt_r2,x_label_r2)  # 绘制x刻度标签\n",
    "y_opt_SGD_r2=[output1[0][3]]\n",
    "y_opt_Adam_r2=[output2[0][3]]\n",
    "y_opt_Adagrand_r2=[output3[0][3]]\n",
    "y_opt_Nadam_r2=[output4[0][3]]\n",
    "plt.bar(x_opt_r2,y_opt_Adagrand_r2,width=-0.3,align='edge',label='Adagrand',hatch='\\\\')\n",
    "plt.bar(x_opt_r2,y_opt_Nadam_r2,width=-0.15,color='pink',align='edge',label='Nadam',hatch='-')\n",
    "plt.bar(x_opt_r2,y_opt_Adam_r2,width=0.3,color='g',align='edge',label='Adam',hatch='*')\n",
    "plt.bar(x_opt_r2,y_opt_SGD_r2,width=0.15,color='r',align='edge',label='SGD',hatch='//')\n",
    "plt.legend()\n",
    "plt.show()"
   ],
   "metadata": {
    "collapsed": false,
    "pycharm": {
     "name": "#%%\n"
    }
   }
  },
  {
   "cell_type": "code",
   "execution_count": null,
   "outputs": [],
   "source": [
    "output1,output2,output3,output4"
   ],
   "metadata": {
    "collapsed": false,
    "pycharm": {
     "name": "#%%\n"
    }
   }
  },
  {
   "cell_type": "markdown",
   "source": [
    "<h1>不同betch_size</h1>"
   ],
   "metadata": {
    "collapsed": false,
    "pycharm": {
     "name": "#%% md\n"
    }
   }
  },
  {
   "cell_type": "code",
   "execution_count": null,
   "outputs": [],
   "source": [
    "x1=data_preprocessing(china_v1)\n",
    "start = time.perf_counter()\n",
    "tf.random.set_random_seed(5)\n",
    "model16=model(x1[0],x1[1],'SGD',16)\n",
    "yhat1=model16.predict(x1[4])\n",
    "using_time = time.perf_counter() - start\n",
    "output1=result(x1[8],yhat1,x1[5],x1[7])"
   ],
   "metadata": {
    "collapsed": false,
    "pycharm": {
     "name": "#%%\n"
    }
   }
  },
  {
   "cell_type": "code",
   "execution_count": null,
   "outputs": [],
   "source": [
    "model32=model(x1[0],x1[1],'SGD',32)\n",
    "yhat2=model32.predict(x1[4])\n",
    "using_time = time.perf_counter() - start\n",
    "output2=result(x1[8],yhat2,x1[5],x1[7])"
   ],
   "metadata": {
    "collapsed": false,
    "pycharm": {
     "name": "#%%\n"
    }
   }
  },
  {
   "cell_type": "code",
   "execution_count": null,
   "outputs": [],
   "source": [
    "model64=model(x1[0],x1[1],'SGD',64)\n",
    "yhat3=model64.predict(x1[4])\n",
    "using_time = time.perf_counter() - start\n",
    "output3=result(x1[8],yhat3,x1[5],x1[7])"
   ],
   "metadata": {
    "collapsed": false,
    "pycharm": {
     "name": "#%%\n"
    }
   }
  },
  {
   "cell_type": "code",
   "execution_count": null,
   "outputs": [],
   "source": [
    "model128=model(x1[0],x1[1],'SGD',128)\n",
    "yhat4=model128.predict(x1[4])\n",
    "using_time = time.perf_counter() - start\n",
    "output4=result(x1[8],yhat4,x1[5],x1[7])"
   ],
   "metadata": {
    "collapsed": false,
    "pycharm": {
     "name": "#%%\n"
    }
   }
  },
  {
   "cell_type": "code",
   "execution_count": null,
   "outputs": [],
   "source": [
    "model256=model(x1[0],x1[1],'SGD',256)\n",
    "yhat5=model256.predict(x1[4])\n",
    "using_time = time.perf_counter() - start\n",
    "output5=result(x1[8],yhat5,x1[5],x1[7])"
   ],
   "metadata": {
    "collapsed": false,
    "pycharm": {
     "name": "#%%\n"
    }
   }
  },
  {
   "cell_type": "markdown",
   "source": [],
   "metadata": {
    "collapsed": false,
    "pycharm": {
     "name": "#%% md\n"
    }
   }
  },
  {
   "cell_type": "code",
   "execution_count": 1,
   "outputs": [
    {
     "ename": "NameError",
     "evalue": "name 'output1' is not defined",
     "output_type": "error",
     "traceback": [
      "\u001B[1;31m---------------------------------------------------------------------------\u001B[0m",
      "\u001B[1;31mNameError\u001B[0m                                 Traceback (most recent call last)",
      "\u001B[1;32m~\\AppData\\Local\\Temp\\ipykernel_30632\\2521712364.py\u001B[0m in \u001B[0;36m<module>\u001B[1;34m\u001B[0m\n\u001B[0;32m      1\u001B[0m \u001B[0mx_opt\u001B[0m\u001B[1;33m=\u001B[0m\u001B[1;33m[\u001B[0m\u001B[1;36m1\u001B[0m\u001B[1;33m,\u001B[0m\u001B[1;36m2\u001B[0m\u001B[1;33m]\u001B[0m  \u001B[1;31m# 确定柱状图数量,可以认为是x方向刻度\u001B[0m\u001B[1;33m\u001B[0m\u001B[0m\n\u001B[0;32m      2\u001B[0m \u001B[0mx_label\u001B[0m\u001B[1;33m=\u001B[0m\u001B[1;33m[\u001B[0m\u001B[1;34m'MAE'\u001B[0m\u001B[1;33m,\u001B[0m\u001B[1;34m'RMSE'\u001B[0m\u001B[1;33m]\u001B[0m\u001B[1;33m\u001B[0m\u001B[0m\n\u001B[1;32m----> 3\u001B[1;33m \u001B[0my_bet_16_r2\u001B[0m\u001B[1;33m=\u001B[0m\u001B[1;33m[\u001B[0m\u001B[0moutput1\u001B[0m\u001B[1;33m[\u001B[0m\u001B[1;36m0\u001B[0m\u001B[1;33m]\u001B[0m\u001B[1;33m[\u001B[0m\u001B[1;36m3\u001B[0m\u001B[1;33m]\u001B[0m\u001B[1;33m]\u001B[0m\u001B[1;33m\u001B[0m\u001B[0m\n\u001B[0m\u001B[0;32m      4\u001B[0m \u001B[0my_bet_32_r2\u001B[0m\u001B[1;33m=\u001B[0m\u001B[1;33m[\u001B[0m\u001B[0moutput2\u001B[0m\u001B[1;33m[\u001B[0m\u001B[1;36m0\u001B[0m\u001B[1;33m]\u001B[0m\u001B[1;33m[\u001B[0m\u001B[1;36m3\u001B[0m\u001B[1;33m]\u001B[0m\u001B[1;33m]\u001B[0m\u001B[1;33m\u001B[0m\u001B[0m\n\u001B[0;32m      5\u001B[0m \u001B[0my_bet_64_r2\u001B[0m\u001B[1;33m=\u001B[0m\u001B[1;33m[\u001B[0m\u001B[0moutput3\u001B[0m\u001B[1;33m[\u001B[0m\u001B[1;36m0\u001B[0m\u001B[1;33m]\u001B[0m\u001B[1;33m[\u001B[0m\u001B[1;36m3\u001B[0m\u001B[1;33m]\u001B[0m\u001B[1;33m]\u001B[0m\u001B[1;33m\u001B[0m\u001B[0m\n",
      "\u001B[1;31mNameError\u001B[0m: name 'output1' is not defined"
     ]
    }
   ],
   "source": [
    "x_opt=[1,2]  # 确定柱状图数量,可以认为是x方向刻度\n",
    "x_label=['MAE','RMSE']\n",
    "y_bet_16_r2=[output1[0][3]]\n",
    "y_bet_32_r2=[output2[0][3]]\n",
    "y_bet_64_r2=[output3[0][3]]\n",
    "y_bet_128_r2=[output4[0][3]]\n",
    "y_bet_256_r2=[output5[0][3]]\n",
    "plt.rcParams['font.sans-serif'] = ['SimHei']\n",
    "plt.rcParams.update({'font.size': 8})\n",
    "plt.xticks(x_opt, x_label)  # 绘制x刻度标签\n",
    "plt.bar(x_opt,y_bet_32,width=0.15,color='g',align='edge',label='betch_size=32',hatch='*')\n",
    "# plt.bar(x_opt,y_bet_16,width=0.15,color='r',align='center',label='betch_size=16',hatch='//')\n",
    "# plt.bar(x_opt,y_opt_Adagrand,width=-0.15,align='edge',label='Adagrand',hatch='\\\\')\n",
    "# plt.bar(x_opt,y_opt_Nadam,width=0.3,color='pink',align='edge',label='Nadam',hatch='-')\n",
    "# plt.bar(x_opt,y_opt_Adam,width=0.15,color='g',align='edge',label='Adam',hatch='*')\n",
    "# # plt.bar(x_opt,y_opt_mae,width=-0.3,align='edge',label='MAE',hatch='//')\n",
    "# plt.bar(x_opt,y_opt_rmse,width=0.3,color='b',align='edge',label='RMSE')\n",
    "plt.legend(loc='best')\n",
    "plt.show()"
   ],
   "metadata": {
    "collapsed": false,
    "pycharm": {
     "name": "#%%\n"
    }
   }
  },
  {
   "cell_type": "code",
   "execution_count": null,
   "outputs": [],
   "source": [
    "plt.figure(figsize=(13, 4))\n",
    "# 构造x轴刻度标签、数据\n",
    "labels = ['MAE','RMSE']\n",
    "y_bet_32=[output2[0][0],output2[0][2]]\n",
    "y_bet_64=[output3[0][0],output3[0][2]]\n",
    "y_bet_128=[output4[0][0],output4[0][2]]\n",
    "# y_bet_256=[output5[0][0],output5[0][2]]\n",
    "plt.subplot(132)\n",
    "x = np.arange(len(labels))  # x轴刻度标签位置\n",
    "width = 0.25  # 柱子的宽度\n",
    "# 计算每个柱子在x轴上的位置，保证x轴刻度标签居中\n",
    "# x - width，x， x + width即每组数据在x轴上的位置\n",
    "plt.bar(x - width, y_bet_128, width, label='betch_size=32',hatch='/')\n",
    "plt.bar(x, y_bet_32, width, label='betch_size=64',hatch='*')\n",
    "plt.bar(x + width, y_bet_64, width, label='betch_size=128',hatch='o')\n",
    "plt.ylabel('Scores')\n",
    "plt.title('MAE RMSE')\n",
    "# x轴刻度标签位置不进行计算\n",
    "plt.xticks(x, labels=labels)\n",
    "plt.ylim()\n",
    "plt.legend()"
   ],
   "metadata": {
    "collapsed": false,
    "pycharm": {
     "name": "#%%\n"
    }
   }
  }
 ],
 "metadata": {
  "kernelspec": {
   "display_name": "Python 3",
   "language": "python",
   "name": "python3"
  },
  "language_info": {
   "codemirror_mode": {
    "name": "ipython",
    "version": 2
   },
   "file_extension": ".py",
   "mimetype": "text/x-python",
   "name": "python",
   "nbconvert_exporter": "python",
   "pygments_lexer": "ipython2",
   "version": "2.7.6"
  }
 },
 "nbformat": 4,
 "nbformat_minor": 0
}